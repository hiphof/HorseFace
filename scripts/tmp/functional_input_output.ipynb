{
 "cells": [
  {
   "cell_type": "code",
   "execution_count": null,
   "metadata": {},
   "outputs": [],
   "source": [
    "from tensorflow import keras\n",
    "from tensorflow.keras import layers\n",
    "\n",
    "# Define input tensor\n",
    "input_tensor = keras.Input(shape=(128, 128, 3)) \n",
    "\n",
    "# Create layers\n",
    "x = layers.Conv2D(32, (3, 3))(input_tensor)\n",
    "x = layers.Flatten()(x)\n",
    "output_tensor = layers.Dense(10, activation='softmax')(x)\n",
    "\n",
    "# Create the model\n",
    "model = keras.Model(inputs=input_tensor, outputs=output_tensor)\n",
    "\n",
    "model.summary()  # Shows the model architecture\n",
    "\n",
    "print(model.input)   # Should now be a valid tensor shape: (None, 128, 128, 3)\n",
    "print(model.output)  # Should now be a valid tensor shape: (None, 10)"
   ]
  }
 ],
 "metadata": {
  "kernelspec": {
   "display_name": "venv_horseface",
   "language": "python",
   "name": "python3"
  },
  "language_info": {
   "codemirror_mode": {
    "name": "ipython",
    "version": 3
   },
   "file_extension": ".py",
   "mimetype": "text/x-python",
   "name": "python",
   "nbconvert_exporter": "python",
   "pygments_lexer": "ipython3",
   "version": "3.12.2"
  }
 },
 "nbformat": 4,
 "nbformat_minor": 2
}
