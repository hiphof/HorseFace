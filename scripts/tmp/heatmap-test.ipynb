{
 "cells": [
  {
   "cell_type": "markdown",
   "metadata": {},
   "source": [
    "Trying to get work the heatmap in an example script\n",
    "\n",
    "\n",
    "# Import Required Libraries\n",
    "Import the necessary libraries, including TensorFlow, Keras, Matplotlib, and NumPy."
   ]
  },
  {
   "cell_type": "code",
   "execution_count": null,
   "metadata": {},
   "outputs": [],
   "source": [
    "import keras\n",
    "from keras import layers, models, utils, datasets\n",
    "\n",
    "import matplotlib.pyplot as plt\n",
    "import numpy as np\n",
    "\n",
    "keras.version()\n",
    "\n",
    "from keras import backend\n",
    "print(\"Keras is using the backend:\", backend.backend())"
   ]
  },
  {
   "cell_type": "markdown",
   "metadata": {},
   "source": [
    "# Load and Preprocess Data\n",
    "Load the dataset and preprocess it for training the CNN model."
   ]
  },
  {
   "cell_type": "code",
   "execution_count": null,
   "metadata": {},
   "outputs": [],
   "source": [
    "# Load the dataset (using CIFAR-10 dataset as an example)\n",
    "(X_train, y_train), (X_test, y_test) = datasets.cifar10.load_data()\n",
    "\n",
    "# Normalize the images to a range of 0 to 1\n",
    "X_train = X_train.astype('float32') / 255.0\n",
    "X_test = X_test.astype('float32') / 255.0\n",
    "\n",
    "# Convert class vectors to binary class matrices (one-hot encoding)\n",
    "y_train = utils.to_categorical(y_train, 10)\n",
    "y_test = utils.to_categorical(y_test, 10)\n",
    "\n",
    "# Print the shape of the data to verify\n",
    "print(f\"X_train shape: {X_train.shape}\")\n",
    "print(f\"y_train shape: {y_train.shape}\")\n",
    "print(f\"X_test shape: {X_test.shape}\")\n",
    "print(f\"y_test shape: {y_test.shape}\")"
   ]
  },
  {
   "cell_type": "markdown",
   "metadata": {},
   "source": [
    "# Build and Train the CNN Model\n",
    "Define the CNN model architecture, compile it, and train it using the training data."
   ]
  },
  {
   "cell_type": "code",
   "execution_count": null,
   "metadata": {},
   "outputs": [],
   "source": [
    "\n",
    "\n",
    "height, width, channels = 32, 32, 3\n",
    "\n",
    "inputs = keras.Input(shape=(height, width, channels))\n",
    "\n",
    "# Define the CNN model architecture\n",
    "model = models.Sequential([\n",
    "    layers.Conv2D(32, (3, 3), activation='relu', name='conv2d_1'),\n",
    "    layers.MaxPooling2D((2, 2), name='maxpool2d_1'),\n",
    "    layers.Conv2D(64, (3, 3), activation='relu', name='conv2d_2'),\n",
    "    layers.MaxPooling2D((2, 2), name='maxpool2d_2'),\n",
    "    layers.Conv2D(64, (3, 3), activation='relu', name='conv2d_3'),\n",
    "    layers.Flatten(name='flatten'),\n",
    "    layers.Dense(64, activation='relu', name='dense_1'),\n",
    "    layers.Dense(10, activation='softmax', name='dense_2')\n",
    "])\n",
    "\n",
    "# Compile the model\n",
    "model.compile(optimizer='adam',\n",
    "              loss='categorical_crossentropy',\n",
    "              metrics=['accuracy'])\n",
    "\n",
    "# Train the model\n",
    "history = model.fit(\n",
    "    X_train, y_train,\n",
    "    epochs=1,\n",
    "    batch_size=32,\n",
    "    validation_data=(X_test, y_test)\n",
    ")"
   ]
  },
  {
   "cell_type": "code",
   "execution_count": null,
   "metadata": {},
   "outputs": [],
   "source": [
    "model.summary()"
   ]
  },
  {
   "cell_type": "code",
   "execution_count": null,
   "metadata": {},
   "outputs": [],
   "source": [
    "# Call the model symbolically to define its graph\n",
    "outputs = model(inputs)\n",
    "\n",
    "# Now you can access model.output\n",
    "print(\"Model Output:\", model.output)"
   ]
  },
  {
   "cell_type": "markdown",
   "metadata": {},
   "source": [
    "# Generate Heatmap\n",
    "Use the Grad-CAM technique to generate a heatmap for a specific input image to visualize the regions of the image that the CNN model focuses on."
   ]
  },
  {
   "cell_type": "code",
   "execution_count": null,
   "metadata": {},
   "outputs": [],
   "source": [
    "# Generate Heatmap\n",
    "import matplotlib.pyplot as plt\n",
    "import numpy as np\n",
    "import tensorflow as tf\n",
    "\n",
    "# Select an image from the test set\n",
    "img = X_test[0]\n",
    "img = np.expand_dims(img, axis=0)\n",
    "\n",
    "# Get the model's predictions\n",
    "preds = model.predict(img)\n",
    "pred_class = np.argmax(preds[0])\n",
    "\n",
    "# Get the output of the last convolutional layer\n",
    "last_conv_layer = model.get_layer('conv2d_3')\n",
    "print(\"Model Output:\", model.output)\n",
    "heatmap_model = keras.Model([model.inputs], [last_conv_layer.output, model.output])\n",
    "\n",
    "# Compute the gradient of the top predicted class with respect to the output feature map of the last conv layer\n",
    "with tf.GradientTape() as tape:\n",
    "    conv_outputs, predictions = heatmap_model(img)\n",
    "    loss = predictions[:, pred_class]\n",
    "\n",
    "# Extract the gradients of the top predicted class with respect to the output feature map of the last conv layer\n",
    "grads = tape.gradient(loss, conv_outputs)\n",
    "\n",
    "# Compute the guided gradients\n",
    "guided_grads = tf.reduce_mean(grads, axis=(0, 1, 2))\n",
    "\n",
    "# Compute the heatmap\n",
    "conv_outputs = conv_outputs[0]\n",
    "heatmap = keras.reduce_mean(keras.multiply(guided_grads, conv_outputs), axis=-1)\n",
    "\n",
    "# Apply ReLU to the heatmap\n",
    "heatmap = np.maximum(heatmap, 0)\n",
    "\n",
    "# Normalize the heatmap\n",
    "heatmap /= np.max(heatmap)\n",
    "\n",
    "# Resize the heatmap to match the size of the original image\n",
    "heatmap = keras.image.resize(heatmap[..., np.newaxis], (32, 32)).numpy()\n",
    "\n",
    "# Plot the heatmap\n",
    "plt.matshow(heatmap.squeeze())\n",
    "plt.show()\n",
    "\n",
    "# Superimpose the heatmap on the original image\n",
    "img = X_test[0]\n",
    "heatmap = np.uint8(255 * heatmap.squeeze())\n",
    "heatmap = np.expand_dims(heatmap, axis=-1)\n",
    "superimposed_img = heatmap * 0.4 + img\n",
    "\n",
    "# Plot the superimposed image\n",
    "plt.imshow(superimposed_img / 255.0)\n",
    "plt.show()"
   ]
  }
 ],
 "metadata": {
  "kernelspec": {
   "display_name": "venv_horseface",
   "language": "python",
   "name": "python3"
  },
  "language_info": {
   "codemirror_mode": {
    "name": "ipython",
    "version": 3
   },
   "file_extension": ".py",
   "mimetype": "text/x-python",
   "name": "python",
   "nbconvert_exporter": "python",
   "pygments_lexer": "ipython3",
   "version": "3.12.2"
  }
 },
 "nbformat": 4,
 "nbformat_minor": 2
}
